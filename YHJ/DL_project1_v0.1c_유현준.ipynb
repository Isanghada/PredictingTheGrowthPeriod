{
 "cells": [
  {
   "cell_type": "markdown",
   "id": "595ed643",
   "metadata": {
    "id": "595ed643"
   },
   "source": [
    "# 생육 기간 예측 프로젝트\n",
    "\n",
    "### 목적 및 배경\n",
    "* 한 쌍의 이미지를 입력받아 작물의 생육 기간을 예측하는 모델 개발<br/>\n",
    " ※ 이후 환경 변수 데이터가 추가 확보되는 시점에는 작물의 효율적인 생육을 위한 최적의 환경을 도출하는 작업으로 연계도 가능할 것으로 전망\n",
    "\n",
    "### 데이터 정보 및 학습 진행 방식\n",
    "* DACON의 \"생육 기간 예측 경진대회\"에서 제공된 데이터로 진행\n",
    "* 2개 작물(청경채, 적상추)에 대한 생육 기간 경과일자별 이미지 데이터 저장<br/>\n",
    "\\- 총 753개(청경채 353개, 적상추 400개)\n",
    "* 작물별 이미지 2장씩을 다양하게 조합하여 2장의 이미지간 경과일을 기준으로 학습 및 평가 진행 예정\n",
    "\n",
    "### 모델 평가 기준\n",
    "* RMSE(Root Mean Squared Error)"
   ]
  },
  {
   "cell_type": "code",
   "execution_count": 1,
   "id": "6e8bac94",
   "metadata": {
    "id": "6e8bac94"
   },
   "outputs": [],
   "source": [
    "import numpy as np\n",
    "import pandas as pd\n",
    "import matplotlib.pyplot as plt\n",
    "\n",
    "import torch\n",
    "import torch.nn as nn\n",
    "import torch.nn.functional as F\n",
    "import torch.optim as optim\n",
    "from torch.utils.data import DataLoader\n",
    "from torchvision import transforms"
   ]
  },
  {
   "cell_type": "code",
   "execution_count": 2,
   "id": "8d6529d0",
   "metadata": {
    "id": "8d6529d0"
   },
   "outputs": [],
   "source": [
    "import random\n",
    "from PIL import Image\n",
    "from glob import glob\n",
    "from tqdm.notebook import tqdm"
   ]
  },
  {
   "cell_type": "code",
   "execution_count": 7,
   "id": "1kfvl7OJEgO9",
   "metadata": {
    "colab": {
     "base_uri": "https://localhost:8080/"
    },
    "id": "1kfvl7OJEgO9",
    "outputId": "90bc6078-e1ef-4ea1-fcbe-2874790b3d82"
   },
   "outputs": [
    {
     "name": "stdout",
     "output_type": "stream",
     "text": [
      "Mounted at /content/drive\n"
     ]
    }
   ],
   "source": [
    "from google.colab import drive\n",
    "drive.mount('/content/drive')"
   ]
  },
  {
   "cell_type": "markdown",
   "id": "fdde56da",
   "metadata": {
    "id": "fdde56da"
   },
   "source": [
    "#### 기본 셋팅"
   ]
  },
  {
   "cell_type": "code",
   "execution_count": 3,
   "id": "9f76a618",
   "metadata": {
    "id": "9f76a618"
   },
   "outputs": [],
   "source": [
    "# seed 고정 함수 정의 => seed 고정을 통해 재현성을 확보하기 위함\n",
    "def seed_everything(seed):\n",
    "    # 파이토치 및 넘파이, random 등 관련 모듈에 대한 seed 일괄 설정\n",
    "    torch.manual_seed(seed)\n",
    "    torch.cuda.manual_seed(seed)\n",
    "    torch.cuda.manual_seed_all(seed)  # if use multi-GPU\n",
    "    torch.backends.cudnn.deterministic = True\n",
    "    torch.backends.cudnn.benchmark = False\n",
    "    np.random.seed(seed)\n",
    "    random.seed(seed)\n",
    "\n",
    "# seed 고정\n",
    "seed_everything(2048)\n",
    "\n",
    "is_cuda = torch.cuda.is_available()\n",
    "device = torch.device('cuda' if is_cuda else 'cpu')\n",
    "print(device)\n",
    "\n",
    "lr = 0.00005\n",
    "epochs = 10\n",
    "batch_size = 64\n",
    "valid_batch_size = 50  # 체크 예정"
   ]
  },
  {
   "cell_type": "markdown",
   "id": "aef67aa0",
   "metadata": {
    "id": "aef67aa0"
   },
   "source": [
    "# 2개 작물별 데이터 정리 및 DataFrame 저장"
   ]
  },
  {
   "cell_type": "markdown",
   "id": "e3f6b099",
   "metadata": {
    "id": "e3f6b099"
   },
   "source": [
    "#### 데이터프레임 생성 관련 함수 정의"
   ]
  },
  {
   "cell_type": "code",
   "execution_count": 4,
   "id": "ad6ac457",
   "metadata": {
    "id": "ad6ac457"
   },
   "outputs": [],
   "source": [
    "def get_image_path(root_path=None):\n",
    "    # 2개 작물별 디렉토리명 list 추출\n",
    "    if root_path is None:  # None일 경우, 현재 경로 기준의 하위 디렉토리명 추출\n",
    "        bc_directories = glob('./BC/*')\n",
    "        lt_directories = glob('./LT/*')\n",
    "    else:\n",
    "        bc_directories = glob(root_path + 'BC/*')\n",
    "        lt_directories = glob(root_path + 'LT/*')\n",
    "    \n",
    "    # 2개 작물별 모든 이미지 파일 경로 list로 저장\n",
    "    bc_image_path = []\n",
    "    for bc_directory in bc_directories:\n",
    "        images = glob(bc_directory + '/*.png')\n",
    "        bc_image_path.extend(images)\n",
    "    lt_image_path = []\n",
    "    for lt_directory in lt_directories:\n",
    "        images = glob(lt_directory + '/*.png')\n",
    "        lt_image_path.extend(images)\n",
    "    \n",
    "    return bc_image_path, lt_image_path\n",
    "\n",
    "def get_dataframe(root_path=None):\n",
    "    # 2개 작물별 이미지 파일 경로 list로 저장(BC : 청경채, LT : 적상추)\n",
    "    bc_image_path, lt_image_path = get_image_path(root_path)\n",
    "    \n",
    "    # 각 파일명에서 기준일자(day) 정보 추출 및 np.array로 저장 => 파일명에서 마지막 2자리 숫자 정보 추출\n",
    "    bc_day_array = np.array([path.split('.')[-2][-2:] for path in bc_image_path])\n",
    "    lt_day_array = np.array([path.split('.')[-2][-2:] for path in lt_image_path])\n",
    "    \n",
    "    # 데이터프레임 생성\n",
    "    bc_df = pd.DataFrame({'image_path' : bc_image_path, 'day' : bc_day_array})\n",
    "    bc_df['species'] = 'bc'\n",
    "    lt_df = pd.DataFrame({'image_path' : lt_image_path, 'day' : lt_day_array})\n",
    "    lt_df['species'] = 'lt'\n",
    "    \n",
    "    total_df = pd.concat([bc_df, lt_df]).reset_index(drop=True)\n",
    "    \n",
    "    return total_df"
   ]
  },
  {
   "cell_type": "markdown",
   "id": "9bf77e48",
   "metadata": {
    "id": "9bf77e48"
   },
   "source": [
    "#### 데이터프레임 생성 => \"total_df\""
   ]
  },
  {
   "cell_type": "code",
   "execution_count": 9,
   "id": "e2549349",
   "metadata": {
    "colab": {
     "base_uri": "https://localhost:8080/"
    },
    "id": "e2549349",
    "outputId": "3c3f1b47-e0f5-4904-c651-3114221d70ac"
   },
   "outputs": [
    {
     "data": {
      "text/plain": [
       "(753,                                           image_path day species\n",
       " 0  /content/drive/MyDrive/ds_study/data1/open/tra...  02      bc\n",
       " 1  /content/drive/MyDrive/ds_study/data1/open/tra...  01      bc\n",
       " 2  /content/drive/MyDrive/ds_study/data1/open/tra...  03      bc\n",
       " 3  /content/drive/MyDrive/ds_study/data1/open/tra...  06      bc\n",
       " 4  /content/drive/MyDrive/ds_study/data1/open/tra...  10      bc)"
      ]
     },
     "execution_count": 9,
     "metadata": {},
     "output_type": "execute_result"
    }
   ],
   "source": [
    "total_df = get_dataframe(root_path='/content/drive/MyDrive/ds_study/data1/open/train_dataset/')  # 구글 코랩 기준 경로\n",
    "len(total_df), total_df.head()  # 총 753개 데이터 저장 결과 확인"
   ]
  },
  {
   "cell_type": "markdown",
   "id": "4844155e",
   "metadata": {
    "id": "4844155e"
   },
   "source": [
    "# 모델 선언\n",
    "* 우선 baseline 셋팅 완료 후, 다양한 모델을 적용해 평가 및 테스트 진행 예정"
   ]
  },
  {
   "cell_type": "code",
   "execution_count": 10,
   "id": "2fbea23c",
   "metadata": {
    "id": "2fbea23c"
   },
   "outputs": [],
   "source": [
    "from torchvision.models import mobilenet_v2\n",
    "\n",
    "class CompareCNN(nn.Module):\n",
    "    \n",
    "    def __init__(self):\n",
    "        super(CompareCNN, self).__init__()\n",
    "        self.mobile_net = mobilenet_v2(pretrained=True)\n",
    "        self.fc_layer = nn.Linear(1000, 1)\n",
    "    \n",
    "    def forward(self, input):\n",
    "        x = self.mobile_net(input)\n",
    "        output = self.fc_layer(x)\n",
    "        return output\n",
    "\n",
    "class CompareNet(nn.Module):\n",
    "    \n",
    "    def __init__(self):\n",
    "        super(CompareNet, self).__init__()\n",
    "        self.before_net = CompareCNN()\n",
    "        self.after_ner = CompareCNN()\n",
    "    \n",
    "    def forward(self, before_input, after_input):\n",
    "        before = self.before_net(before_input)\n",
    "        after = self.after_net(after_input)\n",
    "        delta = before - after\n",
    "        return delta"
   ]
  },
  {
   "cell_type": "code",
   "execution_count": null,
   "id": "9bcbfe56",
   "metadata": {
    "id": "9bcbfe56"
   },
   "outputs": [],
   "source": []
  },
  {
   "cell_type": "code",
   "execution_count": null,
   "id": "0b8c1738",
   "metadata": {
    "id": "0b8c1738"
   },
   "outputs": [],
   "source": []
  },
  {
   "cell_type": "code",
   "execution_count": null,
   "id": "9a3cfff6",
   "metadata": {
    "id": "9a3cfff6"
   },
   "outputs": [],
   "source": []
  }
 ],
 "metadata": {
  "accelerator": "GPU",
  "colab": {
   "collapsed_sections": [],
   "name": "dl_project1_v0.1c_유현준.ipynb",
   "provenance": []
  },
  "kernelspec": {
   "display_name": "Python 3.8.12 64-bit ('cv2_study': conda)",
   "language": "python",
   "name": "python3812jvsc74a57bd072c174dfac2ff421737e80bb8871b64a6ec357dd9359a820eb74cff407c5a1ce"
  },
  "language_info": {
   "codemirror_mode": {
    "name": "ipython",
    "version": 3
   },
   "file_extension": ".py",
   "mimetype": "text/x-python",
   "name": "python",
   "nbconvert_exporter": "python",
   "pygments_lexer": "ipython3",
   "version": "3.8.12"
  }
 },
 "nbformat": 4,
 "nbformat_minor": 5
}
